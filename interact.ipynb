{
 "cells": [
  {
   "cell_type": "markdown",
   "metadata": {},
   "source": [
    "## PyNormaliz\n",
    "\n",
    "Normaliz is a tool for computing the Hilbert bases and enumerative data of rational cones and, more generally, sets of lattice points in rational polyhedra.\n",
    "\n",
    "### Example 1: A cone in dimension 2\n",
    "\n",
    "We want to investigate the cone $C=\\mathbb{R}_{+}(2,1)+\\mathbb{R}_{+}(1,3)\\subset\\mathbb{R}^2$:\n",
    "\n",
    "This cone is defined in the input file 2cone.in:\n",
    "\n",
    "<pre>\n",
    "amb_space 2 \n",
    "cone 2\n",
    "1 3\n",
    "2 1\n",
    "</pre>\n",
    "\n",
    "The input tells Normaliz that the ambient space is R2, and then a cone with 2 generators is defined, namely the cone C from above.\n",
    "The figure indicates the Hilbert basis, and this is our first computation goal.\n",
    "If you prefer to consider the columns of a matrix as input vectors (or have got a matrix in this format from another system) you can use the input\n",
    "\n",
    "Calculate the Hilbert basis from finite vectors."
   ]
  },
  {
   "cell_type": "code",
   "execution_count": 1,
   "metadata": {
    "collapsed": false
   },
   "outputs": [
    {
     "name": "stdout",
     "output_type": "stream",
     "text": [
      "theta 0.314159265359\n",
      "ratio 3.07768353718\n",
      "integers 277/90\n",
      "new vector [[277, 90], [1, 4]]\n"
     ]
    },
    {
     "name": "stderr",
     "output_type": "stream",
     "text": [
      "/usr/local/lib/python2.7/site-packages/matplotlib/figure.py:397: UserWarning: matplotlib is currently using a non-GUI backend, so cannot show the figure\n",
      "  \"matplotlib is currently using a non-GUI backend, \"\n"
     ]
    },
    {
     "data": {
      "text/plain": [
       "('Hilbert Bases:',\n",
       " [[1L, 1L],\n",
       "  [1L, 2L],\n",
       "  [1L, 3L],\n",
       "  [1L, 4L],\n",
       "  [2L, 1L],\n",
       "  [3L, 1L],\n",
       "  [40L, 13L],\n",
       "  [277L, 90L]])"
      ]
     },
     "metadata": {},
     "output_type": "display_data"
    },
    {
     "data": {
      "image/png": "[encoded data removed]",
      "text/plain": [
       "<matplotlib.figure.Figure at 0x112ed9210>"
      ]
     },
     "metadata": {},
     "output_type": "display_data"
    }
   ],
   "source": [
    "%pylab inline\n",
    "\n",
    "import PyNormaliz\n",
    "import ipywidgets as widgets\n",
    "import numpy as np\n",
    "import matplotlib.pyplot as plt\n",
    "\n",
    "from __future__ import print_function\n",
    "from ipywidgets import interact, interactive, fixed\n",
    "from IPython.display import display\n",
    "from fractions import Fraction\n",
    "\n",
    "vectors = [[2,1],[1,4]]\n",
    "cone = PyNormaliz.NmzCone(\"cone\",vectors)\n",
    "HB = PyNormaliz.NmzResult(cone,\"HilbertBasis\")\n",
    "    \n",
    "# Draw background lattice.\n",
    "xLattice = np.arange(-1,8)\n",
    "yLattice = np.arange(-1,8)\n",
    "\n",
    "def pltHilbertBasis(theta=np.pi/10):\n",
    "    fig,ax = plt.subplots()\n",
    "    plt.ylim([-0.5,8])\n",
    "    plt.xlim([-0.5,8])\n",
    "    ax.axis('off')\n",
    "    vectors[0][0],vectors[0][1] = np.cos(theta)*2, np.sin(theta)*2\n",
    "    print (\"theta\",theta)\n",
    "    ratio = vectors[0][0] / vectors[0][1]\n",
    "    print (\"ratio\",ratio)\n",
    "    integers = Fraction.from_float(ratio).limit_denominator(100)\n",
    "    print (\"integers\", integers)\n",
    "    # TODO: Solve for >2 dimensions.\n",
    "    # for ind,d in enumerate(vectors[0]): \n",
    "    #     integers = Fraction.from_float(d).limit_denominator(100)\n",
    "\n",
    "    vectors[0][0] = integers.numerator\n",
    "    vectors[0][1] = integers.denominator\n",
    "    print (\"new vector\", vectors)\n",
    "    for x in xLattice:\n",
    "        for y in yLattice:\n",
    "            plt.plot(x,y,'ko')\n",
    "\n",
    "    # Plot bounding vectors.\n",
    "    for v in vectors:\n",
    "        ax.plot([0,v[0]*2],[0,v[1]*2],'k-')\n",
    "    \n",
    "    cone = PyNormaliz.NmzCone(\"cone\",vectors)\n",
    "    HB = PyNormaliz.NmzResult(cone,\"HilbertBasis\")\n",
    "    xList = [x for x,y in HB]\n",
    "    yList = [y for x,y in HB]\n",
    "\n",
    "    # TODO: Complete fill_between function.\n",
    "    # x = np.arange(0,0.1,2)\n",
    "    # y1 = x*2\n",
    "    # y2 = x*3\n",
    "    # ax.fill_between(x,y1,y2,where=y2>=y1,facecolor='green', interpolate=True)\n",
    "    # Plot Hilbert basis.\n",
    "    ax.plot(xList,yList,'ro')\n",
    "    ax.annotate(str(0), (-.5,-.5))\n",
    "    gcf().show()\n",
    "    return \"Hilbert Bases:\", HB\n",
    "\n",
    "w = interactive(pltHilbertBasis, theta=(0.01,np.pi/2,np.pi/40))\n",
    "display(w)"
   ]
  },
  {
   "cell_type": "markdown",
   "metadata": {},
   "source": [
    "### Grading\n",
    "Now we would also like to define a grading for our cone, which in this example will be the total grading."
   ]
  },
  {
   "cell_type": "code",
   "execution_count": null,
   "metadata": {
    "collapsed": false
   },
   "outputs": [],
   "source": [
    "vectors = [[2,1],[1,4]]\n",
    "grading = [[1,1]]\n",
    "cone2 = PyNormaliz.NmzCone([\"cone\",vectors,\"grading\",grading])\n",
    "PyNormaliz.NmzResult(cone2,\"HilbertSeries\")"
   ]
  },
  {
   "cell_type": "code",
   "execution_count": null,
   "metadata": {
    "collapsed": false
   },
   "outputs": [],
   "source": [
    "PyNormaliz.NmzResult(cone2,\"HilbertQuasiPolynomial\")"
   ]
  },
  {
   "cell_type": "markdown",
   "metadata": {},
   "source": [
    "### Magic Squares\n",
    "\n",
    "Suppose that you are interested in the following type of “square”\n",
    "\n",
    "This system is encoded in the file 3x3magic.in:\n",
    "\n",
    "and the problem is to find nonnegative values for x1,...,x9 such that the 3 numbers in all rows, all columns, and both diagonals sum to the same constant M . Sometimes such squares are called magic and M is the magic constant. This leads to a linear system of equations\n",
    "\n",
    "|    |    |    |\n",
    "|----|----|----|\n",
    "| x1 | x2 | x3 |\n",
    "| x4 | x5 | x6 |\n",
    "| x7 | x8 | x9 |\n",
    "\n",
    "<pre>\n",
    "amb_space 9\n",
    "equations 7\n",
    "1 1 1 -1 -1 -1  0  0  0\n",
    "1 1 1  0  0  0 -1 -1 -1\n",
    "0 1 1 -1  0  0 -1  0  0\n",
    "1 0 1  0 -1  0  0 -1  0\n",
    "1 1 0  0  0 -1  0  0 -1\n",
    "0 1 1  0 -1  0  0  0 -1\n",
    "1 1 0  0 -1  0 -1  0  0\n",
    "grading\n",
    "sparse 1:1 2:1 3:1;\n",
    "</pre>\n",
    "\n",
    "The input type equations represents homogeneous equations. The first equation reads\n",
    "$$x1 + x2 + x3 − x4 − x5 − x6 = 0,$$\n",
    "\n",
    "and the other equations are to be interpreted analogously. The magic constant is a natural choice for the grading. It is given in sparse form, equivalent to the dense form\n",
    "\n",
    "<pre>\n",
    "grading\n",
    "1 1 1 0 0 0 0 0 0\n",
    "</pre>"
   ]
  },
  {
   "cell_type": "code",
   "execution_count": 11,
   "metadata": {
    "collapsed": false
   },
   "outputs": [
    {
     "name": "stdout",
     "output_type": "stream",
     "text": [
      "[[1, 1, 1, -1, -1, -1, 0, 0, 0], [1, 1, 1, 0, 0, 0, -1, -1, -1], [0, 1, 1, -1, 0, 0, -1, 0, 0], [1, 0, 1, 0, -1, 0, 0, -1, 0], [1, 1, 0, 0, 0, -1, 0, 0, -1], [0, 1, 1, 0, -1, 0, 0, 0, -1], [1, 1, 0, 0, -1, 0, -1, 0, 0]]\n",
      "[[0L, 2L, 1L, 2L, 1L, 0L, 1L, 0L, 2L], [1L, 0L, 2L, 2L, 1L, 0L, 0L, 2L, 1L], [1L, 1L, 1L, 1L, 1L, 1L, 1L, 1L, 1L], [1L, 2L, 0L, 0L, 1L, 2L, 2L, 0L, 1L], [2L, 0L, 1L, 0L, 1L, 2L, 1L, 2L, 0L]]\n"
     ]
    }
   ],
   "source": [
    "# Use Normaliz example input files.\n",
    "# with open('examples/3x3magic.in','r') as f:\n",
    "#     parameters = f.readlines()\n",
    "\n",
    "# # Strip paramters from input file.\n",
    "amb_space = parameters[0].split('amb_space')[1]\n",
    "equations = [[int(x) for x in i.replace('\\n','').replace('  ',' ').split(' ')] for i in parameters[2:9]]\n",
    "\n",
    "# TODO: Create function that maps sparse grading from input file into dense form.\n",
    "grading = [[1,1,1,0,0,0,0,0,0]]\n",
    "print(equations)\n",
    "\n",
    "cone = PyNormaliz.NmzCone([\"equations\",equations,\"grading\",grading])\n",
    "HB = PyNormaliz.NmzResult(cone,\"HilbertBasis\")"
   ]
  },
  {
   "cell_type": "code",
   "execution_count": 53,
   "metadata": {
    "collapsed": false
   },
   "outputs": [
    {
     "name": "stdout",
     "output_type": "stream",
     "text": [
      "[1, 1, 1, -1, -1, -1, 0, 0, 0]\n",
      "[1, 1, 1, 0, 0, 0, -1, -1, -1]\n",
      "[0, 1, 1, -1, 0, 0, -1, 0, 0]\n",
      "[1, 0, 1, 0, -1, 0, 0, -1, 0]\n",
      "[1, 1, 0, 0, 0, -1, 0, 0, -1]\n",
      "[0, 1, 1, 0, -1, 0, 0, 0, -1]\n",
      "[1, 1, 0, 0, -1, 0, 0, 0, -1]\n"
     ]
    }
   ],
   "source": [
    "def magic_square(n):\n",
    "    equation = [1 if x<n else 0 for x in range(n**2)]\n",
    "    eqs = []\n",
    "\n",
    "    for i in range(1,n):\n",
    "        equation = [1 if x<n else 0 for x in range(n**2)]\n",
    "        for j in range(n):\n",
    "            equation[i * n + j] = -1\n",
    "        eqs.append(equation)\n",
    "\n",
    "    for i in range(n):\n",
    "        equation = [1 if x<n else 0 for x in range(n**2)]\n",
    "        equation[i] = 0\n",
    "        for j in range(1,n):\n",
    "            equation[n*j + i] = -1\n",
    "        eqs.append(equation)\n",
    "\n",
    "    equation = [1 if x<n else 0 for x in range(n**2)]\n",
    "    diagonal = equation\n",
    "    anti_diagonal = list(equation)\n",
    "    diagonal[0] = 0\n",
    "    anti_diagonal[n-1]=0\n",
    "\n",
    "    for i in range(1, n):\n",
    "        diagonal[n*i+i] = -1\n",
    "        anti_diagonal[n*i+i] = -1\n",
    "    eqs.append(diagonal)\n",
    "    eqs.append(anti_diagonal)\n",
    "    return eqs\n",
    "\n",
    "eqs = magic_square(3)\n",
    "\n",
    "for line in eqs:\n",
    "    print(line)"
   ]
  }
 ],
 "metadata": {
  "kernelspec": {
   "display_name": "Python 2",
   "language": "python",
   "name": "python2"
  },
  "language_info": {
   "codemirror_mode": {
    "name": "ipython",
    "version": 2
   },
   "file_extension": ".py",
   "mimetype": "text/x-python",
   "name": "python",
   "nbconvert_exporter": "python",
   "pygments_lexer": "ipython2",
   "version": "2.7.13"
  }
 },
 "nbformat": 4,
 "nbformat_minor": 2
}
